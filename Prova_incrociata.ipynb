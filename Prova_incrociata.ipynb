{
  "nbformat": 4,
  "nbformat_minor": 0,
  "metadata": {
    "colab": {
      "provenance": []
    },
    "kernelspec": {
      "name": "python3",
      "display_name": "Python 3"
    },
    "language_info": {
      "name": "python"
    }
  },
  "cells": [
    {
      "cell_type": "code",
      "execution_count": 1,
      "metadata": {
        "colab": {
          "base_uri": "https://localhost:8080/"
        },
        "id": "1aBmXoAiz_cr",
        "outputId": "46fb063a-4ea2-4b17-864f-e34328c98389"
      },
      "outputs": [
        {
          "output_type": "stream",
          "name": "stdout",
          "text": [
            "Ciao, questa è una prova incrociata.\n"
          ]
        }
      ],
      "source": [
        "print (\"Ciao, questa è una prova incrociata.\")"
      ]
    }
  ]
}