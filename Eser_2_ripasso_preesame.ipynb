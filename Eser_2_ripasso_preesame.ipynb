{
  "nbformat": 4,
  "nbformat_minor": 0,
  "metadata": {
    "colab": {
      "provenance": [],
      "toc_visible": true,
      "include_colab_link": true
    },
    "kernelspec": {
      "name": "python3",
      "display_name": "Python 3"
    },
    "language_info": {
      "name": "python"
    }
  },
  "cells": [
    {
      "cell_type": "markdown",
      "metadata": {
        "id": "view-in-github",
        "colab_type": "text"
      },
      "source": [
        "<a href=\"https://colab.research.google.com/github/Mario-Corrente/mia-repository/blob/main/Eser_2_ripasso_preesame.ipynb\" target=\"_parent\"><img src=\"https://colab.research.google.com/assets/colab-badge.svg\" alt=\"Open In Colab\"/></a>"
      ]
    },
    {
      "cell_type": "markdown",
      "source": [
        "#Esercizi"
      ],
      "metadata": {
        "id": "wyLtbpsqjKw-"
      }
    },
    {
      "cell_type": "markdown",
      "source": [
        "##Controlla numeri (v1)"
      ],
      "metadata": {
        "id": "hpgLs9V7sBVu"
      }
    },
    {
      "cell_type": "markdown",
      "source": [
        "Scrivere un programma che prenda in input un numero diverso da zero, controlli se il numero inserito sia positivo/negativo e pari/dispari, e stampi un messaggio finale con queste informazioni.\n",
        "\n",
        "**Esempio di esecuzione**\n",
        "```python\n",
        "Inserisci un numero diverso da zero: 3\n",
        "Il numero inserito è dispari e positivo.\n",
        "```"
      ],
      "metadata": {
        "id": "54GE79G7jXfc"
      }
    },
    {
      "cell_type": "code",
      "source": [
        "a = int(input(\"Inserisci un numero: \"))\n",
        "\n",
        "if a > 0 and a %2 == 0:\n",
        "  print(\"il numero è pari e positivo.\")\n",
        "if a > 0 and a %2 != 0:\n",
        "  print(\"Il numero è positivo e dispari.\")\n",
        "if a < 0 and a%2 == 0:\n",
        "  print(\"Il numero è negativo e pari.\")\n",
        "if a < 0 and a %2 != 0:\n",
        "  print(\"Il numero è negativo e dispari.\")\n"
      ],
      "metadata": {
        "id": "HkFyMIYT1Vlu"
      },
      "execution_count": null,
      "outputs": []
    },
    {
      "cell_type": "markdown",
      "source": [
        "##Controlla numeri (v2)\n",
        "\n",
        "Modificare il programma dell'esercizio *controlla numeri (v1)* in modo che l'esecuzione continui fino a che l'utente non inserisce il numero 0.\n",
        "\n",
        "**Esempio di esecuzione**\n",
        "```python\n",
        "Inserisci un numero diverso da zero (oppure inserisci 0 per terminare): 3\n",
        "Il numero inserito è dispari e positivo.\n",
        "Inserisci un numero diverso da zero (oppure inserisci 0 per terminare): -4\n",
        "Il numero inserito è pari e negativo.\n",
        "Inserisci un numero diverso da zero (oppure inserisci 0 per terminare): 0\n",
        "Esecuzione terminata, arrivederci.\n",
        "\n",
        "```"
      ],
      "metadata": {
        "id": "-Zcv1cHao3pu"
      }
    },
    {
      "cell_type": "code",
      "source": [
        "while True:\n",
        "  b = int(input(\"Inserisci un numero diverso da zero (oppure inserisci 0 per terminare): \"))\n",
        "\n",
        "  if b > 0 and b %2 == 0:\n",
        "    print(\"il numero è pari e positivo.\")\n",
        "  elif b > 0 and b %2 != 0:\n",
        "    print(\"Il numero è positivo e dispari.\")\n",
        "  elif b < 0 and b %2 == 0:\n",
        "    print(\"Il numero è negativo e pari.\")\n",
        "  elif b < 0 and b %2 != 0:\n",
        "    print(\"Il numero è negativo e dispari.\")\n",
        "  else:\n",
        "    print(\"Operazione interrotta.\")\n",
        "    break\n",
        "\n",
        "  #oppure si può fare con\n",
        "  #elif b == 0:\n",
        "  #  print(\"Operazione interrotta.\")\n",
        "  #  break\n"
      ],
      "metadata": {
        "id": "p2j4EIFY2hx_"
      },
      "execution_count": null,
      "outputs": []
    },
    {
      "cell_type": "markdown",
      "source": [
        "##Verifica somma\n",
        "\n",
        "Scrivere un programma che controlli il risultato di una addizione, dati due numeri.\n",
        "\n",
        "**Esempio di esecuzione (caso positivo)**\n",
        "\n",
        "```python\n",
        "Inserisci il primo numero: 3\n",
        "Inserisci il secondo numero: 8\n",
        "Inserisci la somma dei numeri: 11\n",
        "Ottimo, il risultato è corretto!\n",
        "```\n",
        "\n",
        "**Esempio di esecuzione (caso negativo)**\n",
        "\n",
        "```python\n",
        "Inserisci il primo numero: 5\n",
        "Inserisci il secondo numero: 2\n",
        "Inserisci la somma dei numeri: 6\n",
        "Errore, il risultato non è corretto!\n",
        "```\n",
        "\n"
      ],
      "metadata": {
        "id": "aBge6I3Mq0el"
      }
    },
    {
      "cell_type": "code",
      "source": [
        "c = int(input(\"inserisci il primo numero: \"))\n",
        "d = int(input(\"inserisci il secondo numero: \"))\n",
        "e = int(input(\"Inserisci il risultato: \"))\n",
        "\n",
        "somma = c + d\n",
        "if somma == e:\n",
        "  print(\"Ottimo, il risultato è corretto!\")\n",
        "else:\n",
        "  print(\"Errore, il risultato non è corretto!\")"
      ],
      "metadata": {
        "id": "xrF1lTXX6uoA"
      },
      "execution_count": null,
      "outputs": []
    },
    {
      "cell_type": "markdown",
      "source": [
        "##Stampa dispari\n",
        "\n",
        "Scrivere un programma che stampi i numeri dispari compresi fra 1 e 100 (compresi).\n",
        "\n",
        "Si realizzino due versioni del programma, una basata sul ciclio *for*, l'altra sul ciclo *while*."
      ],
      "metadata": {
        "id": "Ntwd9w-0_WIn"
      }
    },
    {
      "cell_type": "code",
      "source": [
        "for i in range (1, 101):\n",
        "  print(i)\n",
        "print(\"Ho stampato tutti i numeri fino a :\", i)"
      ],
      "metadata": {
        "id": "8Luo139S7-1q"
      },
      "execution_count": null,
      "outputs": []
    },
    {
      "cell_type": "code",
      "source": [
        "l = 0\n",
        "while l <= 100:\n",
        "  print(l)\n",
        "  successivo = l + 1\n",
        "  l = successivo\n",
        "\n",
        "print(\"Ho contato fino a \", l  )"
      ],
      "metadata": {
        "id": "Qma0QOKx8A3W"
      },
      "execution_count": null,
      "outputs": []
    },
    {
      "cell_type": "markdown",
      "source": [
        "##Tabelline moltiplicative\n",
        "\n",
        "Scrivere un programma che stampi le tabelline moltiplicative dei numeri da 1 a 10.\n",
        "\n",
        "Si realizzino due versioni del programma, una basata sul ciclio *for*, l'altra sul ciclo *while*.\n",
        "\n",
        "**Esempio:**\n",
        "```python\n",
        "Tabellina moltiplicativa del numero 1:\n",
        "  1 x 0 = 0\n",
        "  1 x 1 = 1\n",
        "  1 x 2 = 2\n",
        "  1 x 3 = 3\n",
        "  1 x 4 = 4\n",
        "  1 x 5 = 5\n",
        "  1 x 6 = 6\n",
        "  1 x 7 = 7\n",
        "  1 x 8 = 8\n",
        "  1 x 9 = 9\n",
        "  1 x 10 = 10\n",
        "Tabellina moltiplicativa del numero 2:\n",
        "  2 x 0 = 0\n",
        "  2 x 1 = 2\n",
        "  ...\n",
        "```"
      ],
      "metadata": {
        "id": "grImGa9vG7xz"
      }
    },
    {
      "cell_type": "code",
      "source": [
        "for i in range (1, 11):\n",
        "  print(\"La tabellina moltiplicativa del numero \", i, \"è: \")\n",
        "  for j in range (0,11):\n",
        "    print(i, \"X\", j, (j * i))\n"
      ],
      "metadata": {
        "id": "MC0gHvk89yFY"
      },
      "execution_count": null,
      "outputs": []
    },
    {
      "cell_type": "code",
      "source": [
        "elemento = 0\n",
        "while elemento <= 9:\n",
        "  successivo = elemento + 1\n",
        "  elemento = successivo\n",
        "  print(\"La tabellina moltiplicativa del numero \", elemento, \"è: \")\n",
        "  for i in range (1, 11):\n",
        "    print(elemento, \"X\", i, \"= \", (i * elemento))\n"
      ],
      "metadata": {
        "id": "tKyIuAGuCi9y"
      },
      "execution_count": null,
      "outputs": []
    },
    {
      "cell_type": "markdown",
      "source": [
        "##Esamina tipo\n",
        "\n",
        "Scrivere un funzione che prende come argomento una lista di valori, li analizza uno alla volta e restituisce il loro tipo (es. stringa, intero, booleano, ecc.).\n",
        "\n",
        "Ad esempio, data la lista `[12, \"Luca\", 3.14, 55, True, \"bicicletta\"]`, il programma stamperà:\n",
        "\n",
        "```python\n",
        "Il valore 12 è di tipo <class 'int'>\n",
        "Il valore Luca è di tipo <class 'str'>\n",
        "Il valore 3.14 è di tipo <class 'float'>\n",
        "Il valore 55 è di tipo <class 'int'>\n",
        "Il valore True è di tipo <class 'bool'>\n",
        "Il valore bicicletta è di tipo <class 'str'>\n",
        "```\n",
        "\n",
        "**Nota:** come visto a lezione, la funzione Python per ottenere il tipo di un'espressione è `type`. La parola \"class\" nel risultato significa classe ed è da intendere nel senso di categoria: un tipo infatti è una categoria di valori.\n"
      ],
      "metadata": {
        "id": "MUhZ_PM2K8WE"
      }
    },
    {
      "cell_type": "code",
      "source": [
        "def tipo(lista):\n",
        "  listadadef = [12, \"Luca\", 3.14, 55, True, \"bicicletta\"]\n",
        "  for el in lista:\n",
        "    print(\"il valore di\", el , \"è di tipo\", type(el))\n",
        "\n",
        "lista = [12, \"Luca\", 3.14, 55, True, \"bicicletta\"]\n",
        "tipo(lista)\n"
      ],
      "metadata": {
        "id": "LCcE5XiaF6rj"
      },
      "execution_count": null,
      "outputs": []
    },
    {
      "cell_type": "markdown",
      "source": [
        "##Funzione conta elementi\n",
        "\n",
        "Scrivere la funzione *contaElementi* che prende come argomento una lista di numeri e restituisce il numero di elementi contenuti nella lista.\n",
        "\n",
        "Usare la funzione per stampare il numero di elementi contenuti nelle seguenti liste:\n",
        "```python\n",
        "l1 = [54,11,5,68,143,5,92]\n",
        "l2 = [15,198,24,68,94,4,999,543,2,1,3]\n",
        "```"
      ],
      "metadata": {
        "id": "62rBiAO04A6A"
      }
    },
    {
      "cell_type": "code",
      "source": [
        "def contaElementi(lista):\n",
        "  contatore = 0\n",
        "  for elemento in lista:\n",
        "    contatore = contatore + elemento\n",
        "    elemento = contatore\n",
        "    return elemento\n",
        "\n",
        "l1 = [54,11,5,68,143,5,92]\n",
        "contaElementi(l1)\n"
      ],
      "metadata": {
        "colab": {
          "base_uri": "https://localhost:8080/"
        },
        "id": "0pKkL7zGHtL-",
        "outputId": "db71bda1-2175-4c23-b8b1-4a7f55aad7b7"
      },
      "execution_count": 119,
      "outputs": [
        {
          "output_type": "execute_result",
          "data": {
            "text/plain": [
              "54"
            ]
          },
          "metadata": {},
          "execution_count": 119
        }
      ]
    },
    {
      "cell_type": "code",
      "source": [
        "def contaElementi2(lista):\n",
        "  lunghezza = len(lista)\n",
        "  print(lunghezza)\n",
        "\n",
        "l1 = [54,11,5,68,143,5,92]\n",
        "l2 = [15,198,24,68,94,4,999,543,2,1,3]\n",
        "contaElementi2(l1)\n",
        "contaElementi2(l2)"
      ],
      "metadata": {
        "id": "V7xRa_10IRsy"
      },
      "execution_count": null,
      "outputs": []
    },
    {
      "cell_type": "code",
      "source": [],
      "metadata": {
        "id": "JAPsxY8AJp8w"
      },
      "execution_count": null,
      "outputs": []
    },
    {
      "cell_type": "markdown",
      "source": [
        "##Funzione media e minimo (v1)\n",
        "\n",
        "Scrivere la funzione *mediaMinino* che prende come argomento due numeri positivi e stampa il valore medio ed il minimo fra i due.\n",
        "\n",
        "Usare la funzione per stampare media e minimo dei numeri 846 e 118."
      ],
      "metadata": {
        "id": "zDbTOsHh0T8a"
      }
    },
    {
      "cell_type": "markdown",
      "source": [
        "##Funzione media e minimo (v2)\n",
        "\n",
        "Modificare la soluzione dell'esercizio precedente per calcolare la media ed il minimo di una lista di numeri.\n",
        "\n",
        "Usare la funzione per stampare la somma dei valori nelle seguenti liste:\n",
        "\n",
        "```python\n",
        "lista1 = [24,143,5,93]\n",
        "lista2 = [55,41,316,12,8,92,171,57]\n",
        "```\n",
        "\n",
        "**Nota:** per calcolare la media è utile ottenere il numero di elementi contenuti nella lista. Per fare questo è possibile usare la funzione *contaElementi* sviluppata in uno degli esercizi precedenti. Un'alternativa è di usare la funzione di Python *len*. Esempio d'uso:\n",
        "```python\n",
        "# creiamo una lista di prova\n",
        "l = [55,33,11]\n",
        "# lunghezza con contaElementi\n",
        "lunghezzaContaElementi = contaElementi(l)\n",
        "print(lunghezzaContaElementi)\n",
        "# lunghezza con len\n",
        "lunghezzaLen = len(l)\n",
        "print(lunghezzaLen)\n",
        "```"
      ],
      "metadata": {
        "id": "4o-E0YfD2M-V"
      }
    },
    {
      "cell_type": "markdown",
      "source": [
        "#Soluzioni"
      ],
      "metadata": {
        "id": "27c1Rm8ejOFd"
      }
    },
    {
      "cell_type": "markdown",
      "source": [
        "##Controlla numeri (v1)"
      ],
      "metadata": {
        "id": "fsvFvPjDkJOE"
      }
    },
    {
      "cell_type": "code",
      "source": [
        "n = int(input(\"Inserisci un numero diverso da zero: \"))\n",
        "parita = \"pari\"\n",
        "segno = \"positivo\"\n",
        "if n % 2 != 0:\n",
        "  parita = \"dispari\"\n",
        "if n < 0:\n",
        "  segno = \"negativo\"\n",
        "print(\"Il numero inserito è \" + parita + \" e \" + segno + \".\")"
      ],
      "metadata": {
        "id": "Gfmpbrd7kJZR"
      },
      "execution_count": null,
      "outputs": []
    },
    {
      "cell_type": "code",
      "source": [
        "a = int(input(\"inserisci un numero: \")"
      ],
      "metadata": {
        "id": "oQUZt8mH1OX9"
      },
      "execution_count": null,
      "outputs": []
    },
    {
      "cell_type": "code",
      "source": [],
      "metadata": {
        "id": "cHcEV-q91OVm"
      },
      "execution_count": null,
      "outputs": []
    },
    {
      "cell_type": "code",
      "source": [],
      "metadata": {
        "id": "P4JPE-w01OTA"
      },
      "execution_count": null,
      "outputs": []
    },
    {
      "cell_type": "code",
      "source": [],
      "metadata": {
        "id": "T4ZIH0sI1OPz"
      },
      "execution_count": null,
      "outputs": []
    },
    {
      "cell_type": "code",
      "source": [],
      "metadata": {
        "id": "jBlTj4TC1OGf"
      },
      "execution_count": null,
      "outputs": []
    },
    {
      "cell_type": "code",
      "source": [],
      "metadata": {
        "id": "IczLTP4H1J6x"
      },
      "execution_count": null,
      "outputs": []
    },
    {
      "cell_type": "code",
      "source": [],
      "metadata": {
        "id": "HC07eD111J1T"
      },
      "execution_count": null,
      "outputs": []
    },
    {
      "cell_type": "code",
      "source": [],
      "metadata": {
        "id": "2yIz2u2p1Jya"
      },
      "execution_count": null,
      "outputs": []
    },
    {
      "cell_type": "code",
      "source": [],
      "metadata": {
        "id": "yWtDcodH1JmB"
      },
      "execution_count": null,
      "outputs": []
    },
    {
      "cell_type": "markdown",
      "source": [
        "##Controlla numeri (v2)"
      ],
      "metadata": {
        "id": "8TRp4FLLp5go"
      }
    },
    {
      "cell_type": "code",
      "source": [
        "while True:\n",
        "  n = int(input(\"Inserisci un numero diverso da zero (oppure inserisci 0 per terminare): \"))\n",
        "  if n == 0:\n",
        "    break\n",
        "  parita = \"pari\"\n",
        "  segno = \"positivo\"\n",
        "  if n % 2 != 0:\n",
        "    parita = \"dispari\"\n",
        "  if n < 0:\n",
        "    segno = \"negativo\"\n",
        "  print(\"Il numero inserito è \" + parita + \" e \" + segno + \".\")\n",
        "print(\"Esecuzione terminata, arrivederci.\")"
      ],
      "metadata": {
        "id": "x7mD_RCEp9Zg"
      },
      "execution_count": null,
      "outputs": []
    },
    {
      "cell_type": "markdown",
      "source": [
        "## Verifica somma"
      ],
      "metadata": {
        "id": "2Rx4w4Tdsd6n"
      }
    },
    {
      "cell_type": "code",
      "source": [
        "a = int(input(\"Inserisci il primo numero: \"))\n",
        "b = int(input(\"Inserisci il secondo numero: \"))\n",
        "somma = int(input(\"Inserisci la somma dei numeri: \"))\n",
        "if a + b == somma:\n",
        "  print(\"Ottimo, il risultato è corretto!\")\n",
        "else:\n",
        "  print(\"Errore, il risultato non è corretto!\")"
      ],
      "metadata": {
        "id": "ohkQGoVyr132"
      },
      "execution_count": null,
      "outputs": []
    },
    {
      "cell_type": "markdown",
      "source": [
        "##Stampa dispari"
      ],
      "metadata": {
        "id": "kyDY17Tn_iJr"
      }
    },
    {
      "cell_type": "code",
      "source": [
        "# soluzione basata su ciclo for\n",
        "for i in range(1,101):\n",
        "  if i % 2 == 1:\n",
        "    print(i)"
      ],
      "metadata": {
        "id": "DW5lWKuH_yCq"
      },
      "execution_count": null,
      "outputs": []
    },
    {
      "cell_type": "code",
      "source": [
        "# soluzione basata su ciclio while\n",
        "i = 1\n",
        "while i <= 100:\n",
        "  print(i)\n",
        "  i = i + 2"
      ],
      "metadata": {
        "id": "DhjYQUC-_imE"
      },
      "execution_count": null,
      "outputs": []
    },
    {
      "cell_type": "markdown",
      "source": [
        "##Tabelline moltiplicative"
      ],
      "metadata": {
        "id": "TA-FBzznHun3"
      }
    },
    {
      "cell_type": "code",
      "source": [
        "# soluzione basata su ciclo for\n",
        "for i in range(1,11):\n",
        "  print(\"Tabellina moltiplicativa del numero \" + str(i))\n",
        "  for j in range(0,11):\n",
        "    print(i, \"x\", j, \"=\", i*j)"
      ],
      "metadata": {
        "id": "9YDXcCKsHz8B"
      },
      "execution_count": null,
      "outputs": []
    },
    {
      "cell_type": "code",
      "source": [
        "# soluzione basata su ciclo while\n",
        "i = 1\n",
        "while i <= 10:\n",
        "  print(\"Tabellina moltiplicativa del numero \" + str(i))\n",
        "  j = 0\n",
        "  while j <= 10:\n",
        "    print(i, \"x\", j, \"=\", i*j)\n",
        "    j = j + 1\n",
        "  i = i + 1"
      ],
      "metadata": {
        "id": "n-UNC-KrICwZ"
      },
      "execution_count": null,
      "outputs": []
    },
    {
      "cell_type": "markdown",
      "source": [
        "##Esamina tipo"
      ],
      "metadata": {
        "id": "fLymJYcrOq__"
      }
    },
    {
      "cell_type": "code",
      "source": [
        "lista = [12, \"Luca\", 3.14, 55, True, \"bicicletta\"]\n",
        "for elemento in lista:\n",
        "  tipo = type(elemento)\n",
        "  print(\"Il valore\", elemento, \"è di tipo\", tipo)"
      ],
      "metadata": {
        "id": "BlJ_3myWOtGq"
      },
      "execution_count": null,
      "outputs": []
    },
    {
      "cell_type": "markdown",
      "source": [
        "##Funzione conta elementi"
      ],
      "metadata": {
        "id": "gblidIJh4xJZ"
      }
    },
    {
      "cell_type": "code",
      "source": [
        "def contaElementi(lista):\n",
        "  contatore = 0\n",
        "  for elementi in lista:\n",
        "    contatore = contatore + 1\n",
        "  return contatore\n",
        "\n",
        "l1 = [54,11,5,68,143,5,92]\n",
        "l2 = [15,198,24,68,94,4,999,543,2,1,3]\n",
        "lunghezzaLista = contaElementi(l1)\n",
        "print(lunghezzaLista)\n",
        "lunghezzaLista = contaElementi(l2)\n",
        "print(lunghezzaLista)"
      ],
      "metadata": {
        "id": "npCfaTP64ubn"
      },
      "execution_count": null,
      "outputs": []
    },
    {
      "cell_type": "markdown",
      "source": [
        "##Funzione media e minimo (v1)"
      ],
      "metadata": {
        "id": "SGgiJlD61Npd"
      }
    },
    {
      "cell_type": "code",
      "source": [
        "def mediaMinimo(n1, n2):\n",
        "  media = (n1 + n2) / 2\n",
        "  if n1 < n2:\n",
        "    minimo = n1\n",
        "  else:\n",
        "    minimo = n2\n",
        "  print(\"Media: \" + str(media))\n",
        "  print(\"Minimo: \" + str(minimo))\n",
        "\n",
        "mediaMinimo(846,118)"
      ],
      "metadata": {
        "id": "2wKzZglf1ONc"
      },
      "execution_count": null,
      "outputs": []
    },
    {
      "cell_type": "markdown",
      "source": [
        "##Funzione media e minimo (v2)"
      ],
      "metadata": {
        "id": "sWTglGhQ2LaA"
      }
    },
    {
      "cell_type": "code",
      "source": [
        "def mediaMinimo(lista):\n",
        "  somma = 0\n",
        "  minimo = lista[0]\n",
        "  for numero in lista:\n",
        "    somma += numero\n",
        "    if numero < minimo:\n",
        "      minimo = numero\n",
        "  media = somma / len(lista)\n",
        "  # alternativa usando la funzione contaElementi:\n",
        "  # media = somma / contaElementi(lista)\n",
        "\n",
        "  print(\"Media: \" + str(media))\n",
        "  print(\"Minimo: \" + str(minimo))\n",
        "\n",
        "lista1 = [24,143,5,93]\n",
        "lista2 = [55,41,316,12,8,92,171,57]\n",
        "mediaMinimo(lista1)\n",
        "mediaMinimo(lista2)"
      ],
      "metadata": {
        "id": "-McGfMbf2wSr"
      },
      "execution_count": null,
      "outputs": []
    }
  ]
}