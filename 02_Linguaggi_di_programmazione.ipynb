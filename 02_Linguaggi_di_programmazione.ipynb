{
  "nbformat": 4,
  "nbformat_minor": 0,
  "metadata": {
    "colab": {
      "provenance": [],
      "toc_visible": true,
      "include_colab_link": true
    },
    "kernelspec": {
      "name": "python3",
      "display_name": "Python 3"
    },
    "language_info": {
      "name": "python"
    }
  },
  "cells": [
    {
      "cell_type": "markdown",
      "metadata": {
        "id": "view-in-github",
        "colab_type": "text"
      },
      "source": [
        "<a href=\"https://colab.research.google.com/github/Mario-Corrente/mia-repository/blob/main/02_Linguaggi_di_programmazione.ipynb\" target=\"_parent\"><img src=\"https://colab.research.google.com/assets/colab-badge.svg\" alt=\"Open In Colab\"/></a>"
      ]
    },
    {
      "cell_type": "markdown",
      "metadata": {
        "id": "XZLhilEElfF1"
      },
      "source": [
        "# 02.Linguaggi di programmazione\n"
      ]
    },
    {
      "cell_type": "markdown",
      "metadata": {
        "id": "dMMxDjNmmBzG"
      },
      "source": [
        "## Esercitazione in classe"
      ]
    },
    {
      "cell_type": "markdown",
      "metadata": {
        "id": "pfUC6DLFmSeF"
      },
      "source": [
        "Nella cella di codice seguente è possibile inserire istruzioni Python (il vostro programma!).\n",
        "\n",
        "Prova ad esempio a copiare ed incollare le seguenti istruzioni nella cella di codice:\n",
        "\n",
        "``` python\n",
        "a = 5\n",
        "a * 2\n",
        "```\n",
        "\n",
        "Per eseguire il programma basta fare click sul tringolo che compare fra le parentesi quadre a sinistra."
      ]
    },
    {
      "cell_type": "code",
      "metadata": {
        "id": "7ceeJ-8mm-QK",
        "colab": {
          "base_uri": "https://localhost:8080/"
        },
        "outputId": "59efc387-8c56-47a9-d4ca-2776a7ae08b2"
      },
      "source": [
        "# Inserisci le istruzioni del tuo programma qui sotto, e premi play per eseguire.\n",
        "print (\"hello darkness my old friend\")\n",
        "a = 5\n",
        "a * 2"
      ],
      "execution_count": null,
      "outputs": [
        {
          "output_type": "stream",
          "name": "stdout",
          "text": [
            "hello darkness my old friend\n"
          ]
        },
        {
          "output_type": "execute_result",
          "data": {
            "text/plain": [
              "10"
            ]
          },
          "metadata": {},
          "execution_count": 8
        }
      ]
    },
    {
      "cell_type": "markdown",
      "metadata": {
        "id": "OSyOGzn6VEZ-"
      },
      "source": [
        "Scrivere un programma che stampi il messaggio \"Questa è la prima esercitazione!\"."
      ]
    },
    {
      "cell_type": "code",
      "metadata": {
        "id": "9hqbQ5oOLXvd",
        "colab": {
          "base_uri": "https://localhost:8080/"
        },
        "outputId": "4c8bb3c8-659e-4437-b130-8072e68475f9"
      },
      "source": [
        "#questo è un programma che stampa a video \"Questa è la prima esercitazione!\"\n",
        "print (\"Questa è la prima esercitazione!!!\")"
      ],
      "execution_count": null,
      "outputs": [
        {
          "output_type": "stream",
          "name": "stdout",
          "text": [
            "Questa è la prima esercitazione!!!\n"
          ]
        }
      ]
    },
    {
      "cell_type": "markdown",
      "metadata": {
        "id": "0o2uyx-yVZbQ"
      },
      "source": [
        "Creare uno script per stampare:\n",
        "```\n",
        "nome: Domenico\n",
        "cognome: Bloisi\n",
        "corso: Informatica\n",
        "```"
      ]
    },
    {
      "cell_type": "code",
      "metadata": {
        "id": "-_NM6QiTVZsO",
        "colab": {
          "base_uri": "https://localhost:8080/"
        },
        "outputId": "b4c12932-6444-41b2-eb71-6d1354a39964"
      },
      "source": [
        "#stampare nome cognome e corso\n",
        "print (\"Nome: Domenico\")\n",
        "print (\"Cognome: Bloisi\")\n",
        "print (\"Corso: informatica\")\n",
        "print (\"Stampato tutto\")"
      ],
      "execution_count": null,
      "outputs": [
        {
          "output_type": "stream",
          "name": "stdout",
          "text": [
            "Nome: Domenico\n",
            "Cognome: Bloisi\n",
            "Corso: informatica\n",
            "Stampato tutto\n"
          ]
        }
      ]
    },
    {
      "cell_type": "markdown",
      "metadata": {
        "id": "1AraVPagVzKt"
      },
      "source": [
        "Provare a stampare qualche espressione (aritmetica e non). Ad esempio:\n",
        "\n",
        "``` python\n",
        "3 + 2\n",
        "4 * 5\n",
        "14 / 3\n",
        "14.0 / 3\n",
        "\"Viva la \" + \"mamma\"\n",
        "3*\"Ciao\"\n",
        "```\n",
        "\n"
      ]
    },
    {
      "cell_type": "code",
      "metadata": {
        "id": "qot7OJjhWOWO",
        "colab": {
          "base_uri": "https://localhost:8080/"
        },
        "outputId": "d117c51c-5c2b-475c-f3c4-7ad724c56273"
      },
      "source": [
        "saluto = \"ciao\"\n",
        "nome = \"mamma\"\n",
        "print (saluto + nome)\n",
        "\n",
        "print (3 + 2)\n",
        "print (4 * 5)\n",
        "print (14 /3)\n",
        "print (14.0 /3)\n",
        "print (\"7/5 =\", \"resto\", 7%5)\n",
        "print (\"area rettangolo base per altezza\" , 4 * 5)\n"
      ],
      "execution_count": null,
      "outputs": [
        {
          "output_type": "stream",
          "name": "stdout",
          "text": [
            "ciaomamma\n",
            "5\n",
            "20\n",
            "4.666666666666667\n",
            "4.666666666666667\n",
            "7/5 = resto 2\n",
            "area rettangolo base per altezza 20\n"
          ]
        }
      ]
    },
    {
      "cell_type": "markdown",
      "metadata": {
        "id": "C9KM4QF58bVH"
      },
      "source": [
        "Creare le due variabili x e y assegnando alla prima il valore 4 ed alla seconda il valore \"Prova\"."
      ]
    },
    {
      "cell_type": "code",
      "metadata": {
        "id": "PiG12t3EWkhT"
      },
      "source": [
        "x = 4\n",
        "y = \"Prova\""
      ],
      "execution_count": null,
      "outputs": []
    },
    {
      "cell_type": "markdown",
      "metadata": {
        "id": "7t1116HrWlCT"
      },
      "source": [
        "Stampare il tipo delle variabili x e y.\n"
      ]
    },
    {
      "cell_type": "code",
      "metadata": {
        "id": "_MOykVdkWsWs",
        "colab": {
          "base_uri": "https://localhost:8080/"
        },
        "outputId": "e64a2805-9564-4645-a5aa-e2055d8fa5d6"
      },
      "source": [
        "print (\"x = 4\")\n",
        "print (\"y = Prova\")"
      ],
      "execution_count": null,
      "outputs": [
        {
          "output_type": "stream",
          "name": "stdout",
          "text": [
            "x = 4\n",
            "y = Prova\n"
          ]
        }
      ]
    },
    {
      "cell_type": "markdown",
      "metadata": {
        "id": "lIYUl4fqtTRZ"
      },
      "source": [
        "**Area della Campana:** calcolare l'area della campana e stampare a schermo il risultato dati i seguenti valori (usati per assegnare i valori iniziali alle variabili):\n",
        "\n",
        "```\n",
        "pi = 3.14\n",
        "r = 2\n",
        "b1 = 4\n",
        "h1 = 2\n",
        "h2 = 2\n",
        "b2 = 6\n",
        "```"
      ]
    },
    {
      "cell_type": "code",
      "metadata": {
        "id": "DJe9Rnb1tgsh",
        "colab": {
          "base_uri": "https://localhost:8080/"
        },
        "outputId": "d751f8e9-52bb-4cad-8448-e4796586690b"
      },
      "source": [
        "# dati iniziali (di input)\n",
        "pi = 3.14\n",
        "r = 2\n",
        "b1 = 4\n",
        "h1 = 2\n",
        "h2 = 2\n",
        "b2 = 6\n",
        "b3 = 2\n",
        "\n",
        "# scrivere qui sotto le istruzioni per calcolare l'area\n",
        "area_semicerchio = ((r * r)*pi)/2\n",
        "area_rettangolo = (b1 * h1)\n",
        "area_trapezio = ((b1 + b2)* h2)/2\n",
        "area_totale = (area_semicerchio + area_rettangolo + area_trapezio)\n",
        "print(\"Area semicerchio =\",area_semicerchio)\n",
        "print(\"Area rettangolo =\",area_rettangolo)\n",
        "print(\"Area trapezio =\",area_trapezio)\n",
        "print(\"Area totale =\",area_totale)"
      ],
      "execution_count": 1,
      "outputs": [
        {
          "output_type": "stream",
          "name": "stdout",
          "text": [
            "Area semicerchio = 6.28\n",
            "Area rettangolo = 8\n",
            "Area trapezio = 10.0\n",
            "Area totale = 24.28\n"
          ]
        }
      ]
    },
    {
      "cell_type": "markdown",
      "metadata": {
        "id": "Z6iZs7dAnyuk"
      },
      "source": [
        "## Esercizi per casa"
      ]
    },
    {
      "cell_type": "markdown",
      "metadata": {
        "id": "W8-Z7Gwi7Cea"
      },
      "source": [
        "**Area della cattedrale:** calcolare l'area della cattedrale mostrata in figura dati i seguenti valori iniziali:\n",
        "\n",
        "\n",
        "```\n",
        "b = 5\n",
        "h = 12\n",
        "```\n",
        "\n",
        "\n",
        "![immagine cattedrale](http://www.cs.unibo.it/projects/sacwt21/images/cattedrale.png)"
      ]
    },
    {
      "cell_type": "code",
      "metadata": {
        "id": "Tqr3nW-t8F3j",
        "colab": {
          "base_uri": "https://localhost:8080/"
        },
        "outputId": "c39bb814-ed31-4563-c606-8efa069c945c"
      },
      "source": [
        "# dati iniziali (di input)\n",
        "b = 5\n",
        "h = 12\n",
        "pi = 3.14\n",
        "r = 2\n",
        "\n",
        "# scrivere qui sotto le istruzioni per calcolare l'area\n",
        "area_navata= b * h\n",
        "area_semicerchi= ((r * r * pi)/2)\n",
        "somma_aree_semicerchi= (area_semicerchi * 3)\n",
        "area_abside= (b * b)\n",
        "area_totale= (area_navata + somma_aree_semicerchi + area_abside)\n",
        "print (\"Questa è l'area della navata =\", area_navata)\n",
        "print (\"Questa è l'area dei semicerchi =\", area_semicerchi)\n",
        "print (\"L'area dell'abside è =\", area_abside)\n",
        "print (\"La somma delle aree dei semicerchi è =\", somma_aree_semicerchi)\n",
        "print (\"L'area totale è =\", area_totale)\n"
      ],
      "execution_count": null,
      "outputs": [
        {
          "output_type": "stream",
          "name": "stdout",
          "text": [
            "Questa è l'area della navata = 60\n",
            "Questa è l'area dei semicerchi = 6.28\n",
            "L'area dell'abside è = 25\n",
            "La somma delle aree dei semicerchi è = 18.84\n",
            "L'area totale è = 103.84\n"
          ]
        }
      ]
    }
  ]
}